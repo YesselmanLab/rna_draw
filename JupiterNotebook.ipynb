{
 "cells": [
  {
   "cell_type": "markdown",
   "metadata": {},
   "source": [
    "RNA_DRAW"
   ]
  },
  {
   "cell_type": "code",
   "execution_count": null,
   "metadata": {},
   "outputs": [],
   "source": [
    "%matplotlib inline\n",
    "import matplotlib as mpl\n",
    "import matplotlib.pyplot as plt\n",
    "from rna_draw import draw\n",
    "rna_draw = draw.RNADrawer()"
   ]
  },
  {
   "cell_type": "code",
   "execution_count": null,
   "metadata": {},
   "outputs": [],
   "source": [
    "ss = '......((((....))))...((((((((((..(((((((((((..(((((.(((((..(((((.(((((((....))))))).))))).....))))).))))))))))..))))))...))))))))))......................'\n",
    "seq = 'GGAACAGCACUUCGGUGCAAAGUUUCCCGAUAUGCUCUGCUCGAUAACCAUAUAGAAUUAGCUCCUACUCUGGAAACAGAGUACGAGCUCGUGCUUCUAAAUGGUUCGAGUACAGAGCUAAGUUGGGAGACACAAAGAAACAACAACAACAAC'\n",
    "\n",
    "rna_draw.draw(ss)"
   ]
  },
  {
   "cell_type": "code",
   "execution_count": null,
   "metadata": {},
   "outputs": [],
   "source": [
    "## smaller\n",
    "\n",
    "ss = '.(((.(((..((..((((.(((((.((....))))))))..)))).)......(((......((((((((..((...(((((((.((((....(((((((....))))))).....)))).....((((((((((....)))))))))).....((....)).)))))))..))))))))))(((..(.(((..((((((((.......))))))))))).....))))..((((((((....))))...))))))).((((((..........)))))).((((....))))...)))))).......'\n",
    "seq = 'ACACAUGCAAGCGAACGUGAUCUCCAGCUUGCUGGGGGAUUAGUGGCGAACGGGUGAGUAACACGUGAGUAACCUGCCCUUGACUCUGGGAUAAGCCUGGGAAACUGGGUCUAAUACUGGAUACGACCUUCCCACGCAUGUGUGUUGGUGGAAAGCUUUUGUGGUUUUGGAUGGACUCGCGGCCUAUCAGCUUGUUGGUGGGGUAAUGGCCUACCAAGGCGACGACGGGUAGCCGGCCUGAGAGGGUGGACGGCCACACUGGGACUGAGACACGGCCCAGACUCCUACGGGAGGCAGCAGUGGGGAAUA'\n",
    "\n",
    "seq = seq.replace('I', 'A')\n",
    "ss = ss.replace('[', '.').replace(']', '.')\n",
    "\n",
    "rna_draw.draw(ss, seq, render_type='res_type')"
   ]
  },
  {
   "cell_type": "code",
   "execution_count": null,
   "metadata": {},
   "outputs": [],
   "source": [
    "ss ='.(((.(((..((..((((.(((((.((....))))))))..)))).)......(((......((((((((..((...(((((((.((((....(((((((....))))))).....)))).....((((((((((....)))))))))).....((....)).)))))))..))))))))))(((..(.(((..((((((((.......))))))))))).....))))..((((((((....))))...))))))).((((((..........)))))).((((....))))...)))))).......(.(((...(((.(....)))).))))............((((......((((....)))).....)))).[.(((((((...(..((....))..)....))))))..])..((((([[[...(((((.....((.]]])).......)))))))))).....................((([[...(.((((.(.(((.(((((((.(((((((((((....(((((((.....)))))))..)))))))))..)))))))))...(((((((((..(((((((((..((((((((...(((......)))......))))))))..))....(..((....)))))))))).)))))).)))...))))..))))....((((((...((...((((.........))))...))))))))..........((((((..((((((((((((.......))))))))))))...((..]])).....)))))))))).(((......((((....))))....)))........(((((.(((((((.((..(((((((((((((((((....((((........))))........(((((((.....((((((.((..((((((....))).)))..((....)).)))))))).((.((((..(((((((((...(((((((((....)))..((((......))))..)))))).....((((.(((((((...((..(((......)))))....)))))))..((((((((.....)))))))).....))))....)))).)))...))))))))....)))))))...)).))))))))))...(((((((...(((((..((...(((....)))...))....)))))...)))))))......(...((((((((........))))))))...).....))))).....((((((((........))))))))......))...)))))))))).))..(.((.((.(.((((((((..((((((((((((....((((((.((((..((.......))))))))))))...))))))))).)))..))))))))..).))..))..)....'\n",
    "seq = 'ACACAUGCAAGCGAACGUGAUCUCCAGCUUGCUGGGGGAUUAGUGGCGAACGGGUGAGUAACACGUGAGUAACCUGCCCUUGACUCUGGGAUAAGCCUGGGAAACUGGGUCUAAUACUGGAUACGACCUUCCCACGCAUGUGUGUUGGUGGAAAGCUUUUGUGGUUUUGGAUGGACUCGCGGCCUAUCAGCUUGUUGGUGGGGUAAUGGCCUACCAAGGCGACGACGGGUAGCCGGCCUGAGAGGGUGGACGGCCACACUGGGACUGAGACACGGCCCAGACUCCUACGGGAGGCAGCAGUGGGGAAUAUUGCACAAUGGGCGCAAGCUGAUGCAGCGACGCCGCGUGAGGGAUGAAGGCCUUCGGGUUGUAAACCUCUUUCAGUAGGGAAGAAGCGAAAGUGACGGUACCUGCAGAAGAAGCGCCGGCUAACUACGUGCCAGCAGCCGCGGUAAUACGUAGGGCGCAAGCGUUAUCCGGAAUUAUUGGGCGUAAAGAGCUCGUAGGCGGUUUGUCGCGUCUGCCGUGAAAGUCCGGGGCUUAACUCCGGAUCUGCGGUGGGUACGGGCAGACUUGAGUGAUGUAGGGGAGACUGGAAUUCCUGGUGUAGCGGUGAAAUGCGCAGAUAUCAGGAGGAACACCGAUGGCGAAGGCAGGUCUCUGGGCAUUAACUGACGCUGAGGAGCGAAAGCAUGGGGAGCGAACAGGAUUAGAUACCCUGGUAGUCCAUGCCGUAAACGUUGGGCACUAGGUGUGGGGGACAUUCCACGUUUUCCGCGCCGUAGCUAACGCAUUAAGUGCCCCGCCUGGGGAGUACGGCCGCAAGGCUAAAACUCAAAGGAAUUGACGGGGGCCCGCACAAGCGGCGGAGCAUGCGGAUUAAUUCGAUGCAACGCGAAGAACCUUACCAAGGCUUGACAUGAACCGGAACGCGCAGAGAUGUGUCGGCCACUUGUGGCCGUUUACAGGUGGUGCAUGGUUGUCGUCAGCUCGUGUCGUGAGAUGUUGGGUUAAGUCCCGCAACGAGCGCAACCCUCGUUCCAUGUUGCCAGCGGGUUAUGCCGGGGACUCAUGGGAGACUGCCGGGGUCAACUCGGAGGAAGGUGGGGACGACGUCAAAUCAUCAUGCCCCUUAUGUCUUGGGCUUCACGCAUGCUACAAUGGCCGGUACAAAGGGUUGCGAUGCUGUGAGGUGGAGCUAAUCCCAAAAAGCCGGUCUCAGUUCGGAUUGAGGUCUGCAACUCGACCUCAUGAAGUCGGAGUCGCUAGUAAUCGCAGAUCAGCAACGCUGCGGUGAAUACGUUCCCGGGCCUUGUACACACCGCCCGUCAAGUCACGAAAGUUGGUAACACCCGAAGCCGGUGGCCUAACCCUUUUGGGGGGGAGCCGUCGAAGGUGGGACCGCGCGAUUGGGACUAAGUCGUAACAAGGUAA'\n",
    "\n",
    "seq = seq.replace('I', 'A')\n",
    "ss = ss.replace('[', '.').replace(']', '.')\n",
    "\n",
    "rna_draw.draw(ss, seq, render_type='res_type')"
   ]
  },
  {
   "cell_type": "code",
   "execution_count": null,
   "metadata": {},
   "outputs": [],
   "source": [
    "ss = '......(....(....((..((..).....(..((((...(.(.)))))))).))))'\n",
    "\n",
    "ss = ss.replace('[', '.').replace(']', '.')\n",
    "\n",
    "rna_draw.draw(ss)"
   ]
  },
  {
   "cell_type": "code",
   "execution_count": null,
   "metadata": {},
   "outputs": [],
   "source": [
    "compressed_sequence = \".(((.(((..((..((((.(((((.((....))))))))..)))).)......(((......((((((((..((...(((((((.((((....(((((((....))))))).....)))).....((((((((((....)))))))))).....((....)).)))))))..))))))))))(((..(.(((..((((((((.......))))))))))).....))))..((((((((....))))...))))))).((((((..........)))))).((((....))))...)))))).......(.(((...(((.(....)))).))))............((((......((((....)))).....)))).[.(((((((...(..((....))..)....))))))..])..((((([[[...(((((.....((.]]])).......)))))))))).....................((([[...(.((((.(.(((.(((((((.(((((((((((....(((((((.....)))))))..)))))))))..)))))))))...(((((((((..(((((((((..((((((((...(((......)))......))))))))..))....(..((....)))))))))).)))))).)))...))))..))))....((((((...((...((((.........))))...))))))))..........((((((..((((((((((((.......))))))))))))...((..]])).....)))))))))).(((......((((....))))....)))........(((((.(((((((.((..(((((((((((((((((....((((........))))........(((((((.....((((((.((..((((((....))).)))..((....)).)))))))).((.((((..(((((((((...(((((((((....)))..((((......))))..)))))).....((((.(((((((...((..(((......)))))....)))))))..((((((((.....)))))))).....))))....)))).)))...))))))))....)))))))...)).))))))))))...(((((((...(((((..((...(((....)))...))....)))))...)))))))......(...((((((((........))))))))...).....))))).....((((((((........))))))))......))...)))))))))).))..(.((.((.(.((((((((..((((((((((((....((((((.((((..((.......))))))))))))...))))))))).)))..))))))))..).))..))..)....\"\n",
    "\n",
    "# Simplify the sequence by counting consecutive characters and representing them as a number followed by the character.\n",
    "def simplify_sequence(seq):\n",
    "    simplified = \"\"\n",
    "    count = 1\n",
    "\n",
    "    for i in range(1, len(seq)):\n",
    "        if seq[i] == seq[i-1]:\n",
    "            count += 1\n",
    "        else:\n",
    "            #simplified += str(count) if count > 1 else \"\"\n",
    "            simplified += seq[i-1]\n",
    "            count = 1\n",
    "    #simplified += str(count) if count > 1 else \"\"\n",
    "    print(seq[-1])\n",
    "    simplified += seq[-1]\n",
    "\n",
    "    return simplified\n",
    "\n",
    "simplified_sequence = simplify_sequence(compressed_sequence)\n",
    "print(simplified_sequence)\n"
   ]
  },
  {
   "cell_type": "code",
   "execution_count": null,
   "metadata": {},
   "outputs": [],
   "source": [
    "#Big #2\n",
    "\n",
    "ss = '................................................................................................................................................................................................................................................................................................................................................................................................................................................................................................................................................[[[[[[..................................................................................................................................................................................................................................................................................................................................................................................................................................................................................................................................................................................................................................................................................................................................................................................................................................................................................................................................................................................................................................................................................................................................................................................................................................................................................................................................................................................................................................................................................................................................................((.....((.......................................................................................................................................................................................................................................................................................................................................................................................................................................................................................................................................................................................................................((((....((((((((.(((..............(((((...((....))....)))))((((((((((((((.(((((((...((((.(((((.((((..(((((.((((..((((((((((((((...(((.....)))..))))))))))))))))))...)))))..)))).))))).))))..........................(((((....))))).......))))))).......)))))..)))))))))(...).......(((((((((..(((....{....)))..(((((((((...((((....))))..)..))))))))..((((.(((..((((((.(..(((....(((((......)))))....))))))))..)))))((((((.......))))))(...).....(.........((((((.....))))))).........))))...)).)))))))....))).)))))))).))))))....))....(((((........)))))..((((((((.(((.((......((((.(((((((.((((...(((((((..((((((((((((((((((.[{...<..(((((..((((((((.((((((((((......))))))))))....)))))))).......]}.>.))))))))))))).))))))))))...(((((.....(((((((((...((((((......(((....)))))))))....)))))...........(((((((....)))))))......))))......))))).....)))))))....))))..((((.....))).)((((((...........))))))([((....((((((((.((((((.......))))))...))((][.[[[))....))))))....(((((((((....{..))))))))).(((....))).))]]].].....((((((...(((.]]]]]]....................))).))))))....)}...)))))..))))))........(((.((((((((...((.......))...)))))))..))))..........(((((((((((..((.((((((.......))))))...)).(((((.....))))).....)))))..)..)))).)...}.(((((((....))).))))....))..)))))))))))...................................((((((((..((((.((((((((...............))))))))(((((...(((...(((((((((((....))))))..)))))...))).))))).(((....(((((............)))))....))).)))).....))))))))......(((((((((((.......(((((((....))))))).......................((((((((((((((.......................................))))))))))))))......................(((((((((((((....)))))))))))))..................)))))))))))..((((((((((.......)))))..(((((((((.((..(..(((.(((((((((......)))))))))))))...))....)))).)))))..)))))..'\n",
    "seq = 'UAGCCACAAUCUUAACGAUGGAUGUCUUGGUUCCUAUAGCGAUGAAGGCCGCAGCAAAGUGCGAUAUGCAAUGAAAAAUGCAAUUACUGUGAAUCAUCAGAAUGCUGAAUGUAAACUAUACCAUAUUUACCCUUAUGGGCAAAUUAACGUGGUAUUCCUACAGAAAAUAUUUGAUUUGAUGUUAGGAAGGCAAAUCCGCCGAAUUUAAGCAUAUAAUUAAGCGGAAGAAAAGAAAAUAACAAUGAUUUCUUUAGUAACGGCGAGUGAACAAGAAAAAGCUCAAGGAGAUAAUUCUAUAUCGUAGUUGUAAAAAGACUAUGUGUAUAGAAAUUGUUCUGUUAUAAGGAAGAAGUAAUCUGAGAAUAUAUGGGAUUUAUAUAUAUAUUUAGUUAUCGAAAUAAGUAGGAAUACUUUCCCAUAGAGGGUGAAAGGCCCGUAGUUAAUAAAUAUAUAAAGUUCUUUUUUUUUGGAUAAUUUUUUUUUUUAAAGAGUAGUGCUCUUUGAGAUUGGAGUACAAAGAUGUGUGAUACAUUUCACAUAAGGCUAAAUAUAUAUAGGAGACCGAUAGCAAACAAGUACCGUGAGGGAAAGAUGAAAUAGUACUCAGGAAUGAGCAGUUAAAUAGUACCUGAAAUCGUUAAGGUGGAACGGAUUAAGAAAGGAAAAUGUAAGAAGAUAGUAAAUAUUACUCGGCGAGUUUUAUUAAGAUACGAUUUUUUUAUAAAAAGAAACAUGAGUGAACGAGAAUAAAUUAUAAUAUAAUUAUAUUAGAUAGGUAUAGAAUAGAUACACAGGACUAAGGGGGGAGGAGUAGUAAGAAAAAGGGUGCAGUGUAAAAGGGUUAUGCUUGUAUGUUUGAGUAUUCACUGCUUCUUUUUUUUUUUUCUGUAAUUUUAUAUCUAUUUAAUUAAAGUAUCCUUAGCUAAUAAUAAUUUAUGAAGGAAGAACUUAAUUUAUAUGAGUUUUAAAAGGCAUGAUUAUAUUGUAUAUUAUAUGAUAUAUAUAUAAUUAUGUUUUAACCGAAAUGCGUAUAAUUAUUCUGUUUACUGAGGAAAGAGGUAAACAAUAGUGUGAACUAAGAAUGGGAUAUUUCUUUUUUCUGAUUGUAAGUUGUUUUUAAAUAGUACUUUUUUAACCCACUCGUCUUGAAACACGGACCAAGGAGUCUAACAAAUGUGCGAGCGUAUGUGAUAUGAAUAAAAACAUAUAUAAAUUUUUAGUUACGCGUAAUUAAUGUGAAUUUUUUGUGGAUGCGCCGGACAAUAGUGCAUUUGGUUUCUGGCUUGCAAACAAUACCGAUAAGCAAUAAGAUAAUUAAGUUUAUUUGAGUAUGAGUACAUUUGUUAGGACCCGAGAGGCUUUGAACUAAGCGUGAUGAGAUUGAAGUCAGACGAAAGUCUGAUGGAGGAUCGAGUUGAUACUGACGUGCAAAUCGUUCAUUACAAUCACGUUUAGGGGCGAAAGACUAAUCGAAAAGCCUAUUAGCUGGUUAUUUUCGAAAGAUCUCUCAGGAUCGCUGGAGUUGAGUUGAUUAUAAUUUUAUAAGGUAGAGACAAUGAUUAGAGGGUUUAGGGGAUUAAAUAUUUCUUAACCUAUUCUCAAACUUCCAAUAUGUAAAGAGGGUGCGAUAUCUGAAAAGUAUUUCACUUUGGCGUAAAUAAGAUAACUCCAAGUGGGCCAUUUUUGGUAAGCAGAACUGGCGAUGAGGGAUGCUCCUAACGCCUGGAUAAGGUGCCUAAAUAUUCGCUCAUGAGAUCCCAUAAAAGGUGUUGGUUCAUAAUGACAGUAGGACGAUGGUCAUGGAAGUCGAAAUUCGCUUAGGAGUGUGUAACAACUCACCUACCGAAUGAACUAGCCCUGAAAAUGGAUGGGCUAAAGCGAAUUACCGAUACCGGGCCAUAAGAAGGUAGAAAUUAUAAAUGUUAAUUUAGCUCAGAUCUUUUUAUGAGUAGAAAAUCGUGGGGUUUGUGUUGAAGCGAAAUACGUGAGUUUUCGUGGAACAUCUCCCUAGUGCAGAUCUUGGUGGAAGUAGCAACUAUUCAAAUGAGAACUUUGAAGACUGAAGUGGAGAAGGGUUUCUUGUCAACUAUGUUUCUACAAGAGUUAGCCACUCCUAAGGGAUAGCUGAAAAGUGUUUAAAAGAAGUAAGAUAUUAUAUGGAAAUAUAUAAUUAGAUCUUCGUCUCAAAAGGGAAACAGGUUAAUAUUCCUGUGCCAAAUAGAAGUAAGGGUGUGAAUAAAGAAAGAUGGUAACAUACAUACAAAUGAACUCCUUGACAUAGGUUUUACGCUCGGGGUGCGUUAUCUUUGCACUUUAAUUUUAUAGCAAACCUUGGAAUCAAUUUAUUUGGAGAAGAGGUUUGUUGAACUCAAUUCAAAAAAUUUAUGGCUGGGUUUUCGGAUUCAGUUCAUUUUAUUUUUUGUUUUGUAGCAAUAGUAAUUCGUUUUUAUGAAUUAUCCGAAGUGGUAAAAACUAUCCUUGAAAAAAGGAGGGAACGGAGCAUAUACAGAAGGGAAUUUAAUUAUUUUUUUUUUUGAGUUACCUUCUUAUGUGAAAUACUCUUAUAUUCAAUCAAUAAUGAGUGUACCCAAUAACCGCAUCAGGUCUCCAAGGUUAGUAGCCUCUGGUUAAAUAGAAAAAAGUAAGUAAGGGAAGUCGGCAAAAUAGAUCCGUAACUUCGGGAAAAGGGUUGGCUCUGAGGACAUUAGAAAAGAGAAGAAAAAAAAGGGGGUUGAAAAUAAAAUUACAGAUUUAUUUGCUUUAUCUUUUCGAUUUGGUUGUAAAUUUGUUUUUCGUUUUUCUUCUUUGUUUUUAUUCUGUUCCUGUUUUCGCUUUCAUUUUAUUGUAAUUUUAGUUACUUAAAUUUUUUGAUAUAUAUAAUGUUAACUCAGAACUGAAACGGACAAGGGGAAUCCGACUGUUUAAUUAAAACAUAGCAUUGUGAAAAACCAUAACUGGUAUUAACACAAUGUGAUUUCUGCCCAGUGCUUUGAAUGUUAAGUUGAUGAAAAAUUCAAUUAAGCGCAGGUAAACGGCGGGAGUAACUAUGACUCUCUUAAGGUAGCCAAAUGCCUCGUCAUCUAAUUAGUGACGCGCAUGAAUGGAUUAACGAGAUUCCCACUGUCCCUACUUGCUAUCUAGCGAAACCACAGCCAAGGGAACGGGCUUGGCAAAAUCAGCGGGGAAAGAAGACCCUGUUGAGCUUUACUCUAGUCUGGCUUUGUGAAACGACUUAGAAGGUGUAGUAUAAGUGGGAGUACAAAGAAGGGAUCGAAAACUAAUUCGAUCUUUAUGUUUUUGUACACAAAUGAAAUACCACUACUUUUACAGUUGUUUUACUUAUCUAUUAAUAGGGAAAUAUAUUAUGCUUUAAUUCUUUGUGAAAAAGGCAUUCUGAUAUUAUUUGAAUUUUUAAGAAACUUGUUUCUUAUAUUUCUCCCAUUUCUAUGGAGACAUAGCCAGGUGGGGAGUUUGACUGGGGCGGUACAUCUGUUAAAAAAUAACGCAGAUGUCCAAAGACAAGCUCAAUGAGAACAGAAAUCUCGUGUAGACUAAAAGGGGAAAAGCUUGUUUGAUUUCUAUUUUCAGAAAGAAUAGAAAACGUGAAAGCGUGGCCUAUCGAUCCUUUAUUUUUGCAAAAUGUAUUAAUAACAUUCUGACUGUGCAUAUAAAGGUGUCUGAAAAGUUACCACAGGGAUAACUGGCUUGUGGCUGCCAAGCGCUCUUAGCGACGUAGCUUUUUGAUCCUUCGAUGUCGGCUCUUCCUAUCAUUGGGACGCAGAAAGUCUCAAAGUGUCGGAUUGUUCACCCGCUAAUAGGGAACGUGAGCUGGGUUUAGACCGUCGUGAGACAGGUUAGUUUUACCCUACUGAUGAAUUUUAUUAUAUAUUUUAUAUAUAUAUAUACAUAUAGUAUUGUGACAGUAAUCCAACUUGGUACGAGAGGAUUAGUUGGUUCAGACAAUUGGUACAGCAAUUGGUUGAUAAGCCAGUGUUGCGAACGUAAGUCUGUUGGAUAAUGACUGAACGCCUCUUAAGUCAGAACCCAUACUGAUUAGACAAUUUUAUAUUGUUCUUUUUGUUUAAAUAUAAAAAUAUUAUUAUUUUUUUUACUGCUAAUGUAAAUGAGAAAUUAUACAUAUAUUAGAAAAAAAAUGUAAUUAAUUGUUUUUUUUUCGCUUUAUAAUAUAUCAAUAAUCCUAUCUUUUUAUAUAUAUGUAUGUGUAUACAUAUAUAUAUAUGUAUAUAUAAAUAGAUUGUAAUUUAACAACAAAAAGUGUUAAGCAUAUUGUAGACGACUUUUCAGUCUCAGAGUGCUGUAAACAUGAGAGUAAACUAAGUUUUACGAUCUGUUGAGGCUUAUCCCUAGUGGUAAAGUGUUU'\n",
    "\n",
    "seq = seq.replace('I', 'A')\n",
    "ss = ss.replace('[', '.').replace(']', '.').replace('}', '.').replace('{', '.').replace('<', '.').replace('>', '.')\n",
    "\n",
    "rna_draw.draw(ss, seq)"
   ]
  },
  {
   "cell_type": "code",
   "execution_count": null,
   "metadata": {},
   "outputs": [],
   "source": [
    "#Big #3\n",
    "\n",
    "ss = ''\n",
    "seq = 'UAGCCACAAUCUUAACGAUGGAUGUCUUGGUUCCUAUAGCGAUGAAGGCCGCAGCAAAGUGCGAUAUGCAAUGAAAAAUGCAAUUACUGUGAAUCAUCAGAAUGCUGAAUGUAAACUAUACCAUAUUUACCCUUAUGGGCAAAUUAACGUGGUAUUCCUACAGAAAAUAUUUGAUUUGAUGUUAGGAAGGCAAAUCCGCCGAAUUUAAGCAUAUAAUUAAGCGGAAGAAAAGAAAAUAACAAUGAUUUCUUUAGUAACGGCGAGUGAACAAGAAAAAGCUCAAGGAGAUAAUUCUAUAUCGUAGUUGUAAAAAGACUAUGUGUAUAGAAAUUGUUCUGUUAUAAGGAAGAAGUAAUCUGAGAAUAUAUGGGAUUUAUAUAUAUAUUUAGUUAUCGAAAUAAGUAGGAAUACUUUCCCAUAGAGGGUGAAAGGCCCGUAGUUAAUAAAUAUAUAAAGUUCUUUUUUUUUGGAUAAUUUUUUUUUUUAAAGAGUAGUGCUCUUUGAGAUUGGAGUACAAAGAUGUGUGAUACAUUUCACAUAAGGCUAAAUAUAUAUAGGAGACCGAUAGCAAACAAGUACCGUGAGGGAAAGAUGAAAUAGUACUCAGGAAUGAGCAGUUAAAUAGUACCUGAAAUCGUUAAGGUGGAACGGAUUAAGAAAGGAAAAUGUAAGAAGAUAGUAAAUAUUACUCGGCGAGUUUUAUUAAGAUACGAUUUUUUUAUAAAAAGAAACAUGAGUGAACGAGAAUAAAUUAUAAUAUAAUUAUAUUAGAUAGGUAUAGAAUAGAUACACAGGACUAAGGGGGGAGGAGUAGUAAGAAAAAGGGUGCAGUGUAAAAGGGUUAUGCUUGUAUGUUUGAGUAUUCACUGCUUCUUUUUUUUUUUUCUGUAAUUUUAUAUCUAUUUAAUUAAAGUAUCCUUAGCUAAUAAUAAUUUAUGAAGGAAGAACUUAAUUUAUAUGAGUUUUAAAAGGCAUGAUUAUAUUGUAUAUUAUAUGAUAUAUAUAUAAUUAUGUUUUAACCGAAAUGCGUAUAAUUAUUCUGUUUACUGAGGAAAGAGGUAAACAAUAGUGUGAACUAAGAAUGGGAUAUUUCUUUUUUCUGAUUGUAAGUUGUUUUUAAAUAGUACUUUUUUAACCCACUCGUCUUGAAACACGGACCAAGGAGUCUAACAAAUGUGCGAGCGUAUGUGAUAUGAAUAAAAACAUAUAUAAAUUUUUAGUUACGCGUAAUUAAUGUGAAUUUUUUGUGGAUGCGCCGGACAAUAGUGCAUUUGGUUUCUGGCUUGCAAACAAUACCGAUAAGCAAUAAGAUAAUUAAGUUUAUUUGAGUAUGAGUACAUUUGUUAGGACCCGAGAGGCUUUGAACUAAGCGUGAUGAGAUUGAAGUCAGACGAAAGUCUGAUGGAGGAUCGAGUUGAUACUGACGUGCAAAUCGUUCAUUACAAUCACGUUUAGGGGCGAAAGACUAAUCGAAAAGCCUAUUAGCUGGUUAUUUUCGAAAGAUCUCUCAGGAUCGCUGGAGUUGAGUUGAUUAUAAUUUUAUAAGGUAGAGACAAUGAUUAGAGGGUUUAGGGGAUUAAAUAUUUCUUAACCUAUUCUCAAACUUCCAAUAUGUAAAGAGGGUGCGAUAUCUGAAAAGUAUUUCACUUUGGCGUAAAUAAGAUAACUCCAAGUGGGCCAUUUUUGGUAAGCAGAACUGGCGAUGAGGGAUGCUCCUAACGCCUGGAUAAGGUGCCUAAAUAUUCGCUCAUGAGAUCCCAUAAAAGGUGUUGGUUCAUAAUGACAGUAGGACGAUGGUCAUGGAAGUCGAAAUUCGCUUAGGAGUGUGUAACAACUCACCUACCGAAUGAACUAGCCCUGAAAAUGGAUGGGCUAAAGCGAAUUACCGAUACCGGGCCAUAAGAAGGUAGAAAUUAUAAAUGUUAAUUUAGCUCAGAUCUUUUUAUGAGUAGAAAAUCGUGGGGUUUGUGUUGAAGCGAAAUACGUGAGUUUUCGUGGAACAUCUCCCUAGUGCAGAUCUUGGUGGAAGUAGCAACUAUUCAAAUGAGAACUUUGAAGACUGAAGUGGAGAAGGGUUUCUUGUCAACUAUGUUUCUACAAGAGUUAGCCACUCCUAAGGGAUAGCUGAAAAGUGUUUAAAAGAAGUAAGAUAUUAUAUGGAAAUAUAUAAUUAGAUCUUCGUCUCAAAAGGGAAACAGGUUAAUAUUCCUGUGCCAAAUAGAAGUAAGGGUGUGAAUAAAGAAAGAUGGUAACAUACAUACAAAUGAACUCCUUGACAUAGGUUUUACGCUCGGGGUGCGUUAUCUUUGCACUUUAAUUUUAUAGCAAACCUUGGAAUCAAUUUAUUUGGAGAAGAGGUUUGUUGAACUCAAUUCAAAAAAUUUAUGGCUGGGUUUUCGGAUUCAGUUCAUUUUAUUUUUUGUUUUGUAGCAAUAGUAAUUCGUUUUUAUGAAUUAUCCGAAGUGGUAAAAACUAUCCUUGAAAAAAGGAGGGAACGGAGCAUAUACAGAAGGGAAUUUAAUUAUUUUUUUUUUUGAGUUACCUUCUUAUGUGAAAUACUCUUAUAUUCAAUCAAUAAUGAGUGUACCCAAUAACCGCAUCAGGUCUCCAAGGUUAGUAGCCUCUGGUUAAAUAGAAAAAAGUAAGUAAGGGAAGUCGGCAAAAUAGAUCCGUAACUUCGGGAAAAGGGUUGGCUCUGAGGACAUUAGAAAAGAGAAGAAAAAAAAGGGGGUUGAAAAUAAAAUUACAGAUUUAUUUGCUUUAUCUUUUCGAUUUGGUUGUAAAUUUGUUUUUCGUUUUUCUUCUUUGUUUUUAUUCUGUUCCUGUUUUCGCUUUCAUUUUAUUGUAAUUUUAGUUACUUAAAUUUUUUGAUAUAUAUAAUGUUAACUCAGAACUGAAACGGACAAGGGGAAUCCGACUGUUUAAUUAAAACAUAGCAUUGUGAAAAACCAUAACUGGUAUUAACACAAUGUGAUUUCUGCCCAGUGCUUUGAAUGUUAAGUUGAUGAAAAAUUCAAUUAAGCGCAGGUAAACGGCGGGAGUAACUAUGACUCUCUUAAGGUAGCCAAAUGCCUCGUCAUCUAAUUAGUGACGCGCAUGAAUGGAUUAACGAGAUUCCCACUGUCCCUACUUGCUAUCUAGCGAAACCACAGCCAAGGGAACGGGCUUGGCAAAAUCAGCGGGGAAAGAAGACCCUGUUGAGCUUUACUCUAGUCUGGCUUUGUGAAACGACUUAGAAGGUGUAGUAUAAGUGGGAGUACAAAGAAGGGAUCGAAAACUAAUUCGAUCUUUAUGUUUUUGUACACAAAUGAAAUACCACUACUUUUACAGUUGUUUUACUUAUCUAUUAAUAGGGAAAUAUAUUAUGCUUUAAUUCUUUGUGAAAAAGGCAUUCUGAUAUUAUUUGAAUUUUUAAGAAACUUGUUUCUUAUAUUUCUCCCAUUUCUAUGGAGACAUAGCCAGGUGGGGAGUUUGACUGGGGCGGUACAUCUGUUAAAAAAUAACGCAGAUGUCCAAAGACAAGCUCAAUGAGAACAGAAAUCUCGUGUAGACUAAAAGGGGAAAAGCUUGUUUGAUUUCUAUUUUCAGAAAGAAUAGAAAACGUGAAAGCGUGGCCUAUCGAUCCUUUAUUUUUGCAAAAUGUAUUAAUAACAUUCUGACUGUGCAUAUAAAGGUGUCUGAAAAGUUACCACAGGGAUAACUGGCUUGUGGCUGCCAAGCGCUCUUAGCGACGUAGCUUUUUGAUCCUUCGAUGUCGGCUCUUCCUAUCAUUGGGACGCAGAAAGUCUCAAAGUGUCGGAUUGUUCACCCGCUAAUAGGGAACGUGAGCUGGGUUUAGACCGUCGUGAGACAGGUUAGUUUUACCCUACUGAUGAAUUUUAUUAUAUAUUUUAUAUAUAUAUAUACAUAUAGUAUUGUGACAGUAAUCCAACUUGGUACGAGAGGAUUAGUUGGUUCAGACAAUUGGUACAGCAAUUGGUUGAUAAGCCAGUGUUGCGAACGUAAGUCUGUUGGAUAAUGACUGAACGCCUCUUAAGUCAGAACCCAUACUGAUUAGACAAUUUUAUAUUGUUCUUUUUGUUUAAAUAUAAAAAUAUUAUUAUUUUUUUUACUGCUAAUGUAAAUGAGAAAUUAUACAUAUAUUAGAAAAAAAAUGUAAUUAAUUGUUUUUUUUUCGCUUUAUAAUAUAUCAAUAAUCCUAUCUUUUUAUAUAUAUGUAUGUGUAUACAUAUAUAUAUAUGUAUAUAUAAAUAGAUUGUAAUUUAACAACAAAAAGUGUUAAGCAUAUUGUAGACGACUUUUCAGUCUCAGAGUGCUGUAAACAUGAGAGUAAACUAAGUUUUACGAUCUGUUGAGGCUUAUCCCUAGUGGUAAAGUGUUU'\n",
    "\n",
    "seq = seq.replace('I', 'A')\n",
    "ss = ss.replace('[', '.').replace(']', '.')\n",
    "\n",
    "rna_draw.draw(ss, seq)"
   ]
  },
  {
   "cell_type": "code",
   "execution_count": null,
   "metadata": {},
   "outputs": [],
   "source": [
    "ss = '......((((....))))...((((((((((..(((((((((((..(((((.(((((..(((((.(((((((....))))))).))))).....))))).))))))))))..))))))...))))))))))......................'\n",
    "seq = 'GGAACAGCACUUCGGUGCAAAGUUUCCCGAUAUGCUCUGCUCGAUAACCAUAUAGAAUUAGCUCCUACUCUGGAAACAGAGUACGAGCUCGUGCUUCUAAAUGGUUCGAGUACAGAGCUAAGUUGGGAGACACAAAGAAACAACAACAACAAC'\n",
    "\n",
    "rna_draw.draw(ss, seq)"
   ]
  },
  {
   "cell_type": "code",
   "execution_count": null,
   "metadata": {},
   "outputs": [],
   "source": [
    "ss = '...(((((.......))))).((((((((((.((((((((((.....(((.(((..(((..(((((((...))))))))))......(((......((((((((..((...(((((((.((((....(((((((....))))))).....))))....((((((((.((......)))))))))).....((....)).)))))))..))))))))))(((..(.(((..((((((((.......))))))))))).....))))..((((((((....))))...))))))).((((((..........)))))).((((....))))...)))))).).....(.(((...(((((....))))).)))).)))))))))..((((((((...))))))))...((((((((.......)))))))...)...((((((.......((((.....((....)).......)))))))))).))))))))))..........(((.....(.((((.(.(((.(((((((.(((((((((((....(((((((.....)))))))...)))))))))..)))))))))...(((((((((..(((((((((..((((((((...(((......)))......))))))))..))....(..((....)))))))))).)))))).)))...))))..))))....((((((...((...((((.........))))...))))))))..........((((((..((((((((((((((.....))))))))))))))...((....)).....)))))))))).(((......((((....))))....)))........(((((.(((((((..((..(((((((((((((((((....((((........))))........(((((((...((((((......(((((((.......)))))))...)).))))...((.((((..(((((((((...(((((((((....)))..((((......))))..)))))).....((((.(((((((...((..(((((((....)))).)))))....)))))))..((((((((.....)))))))).....))))....)))).)))...))))))))....)))))))...)).))))))))))...(((((((.....(((..((..((((....))))..))....))).....)))))))......(...((((((((........))))))))...).....))))).....((((((((.......))))))))......))...)))))))))).))..(.((.((.(.((((((((..(((((((((((((((((((((((((....)))))))))))))))))))))))))..))))))))..).))..))..).((((((((((....))))))))))...........'\n",
    "seq = 'AUUCUGGUUGAUCCUGCCAGAGGUUACUGCUAUCGGUGUUCGACUAAGCCAUGCUAGUUAAAUGUUCUUCGUGAACAUAGCGGACUGCUCAGUAACACGUGGACAAUCUGCCCUUGGGUUCAGCAUAACCCCGGGAAACUGGGGAUAAUUCUGAAUAGAUCACACAUGCUGGAAUGCUUUGUGAUUUAAAGAUCCGUCGCCCAAGGAUGGGUCUGCGGCCUAUCAGGUUGUAGUGGGUCUAGAGUACCUACUAGCCAACGACGGGUACGGGUUGUGAGAGCAAGAGCCCGGAGAUGGAUUCUGAGACAUUAAUCCAGGCCCUACGGGGCGCAGCAGGCGCGAAACCUUUACACUGCGGGAAACCGCGAUAAGGGGACACCGAGUGCCAGCAUACAAUGCUGGCUGUCCACAUGUGUAAAUAGCAUGUGAUAGCAAGGGCCGGGCAAGACCGGUGCCAGCCGCCGCGGUAACACCGGCGGCCCGAGUGGUAAUCACUAUUAUUGGGUCUAAAGGGUCCGUAGCCGGUUUAAUCAGUCUUCCGGGAAAUCUGACAGCUCAACUGUUAGGCUUCCGGGGGAUACUGUUAGACUUGGGACCGGGAGAGGUAAGAGGUACUACAGGGGUAGGAGUGAAAUCUUGUAAUCCCUGUGGGACCACCAGUGGCGAAGGCGUCUUACCAGAACGGGUCCGACGGUGAGGGACGAAAGCUGGGGGCACGAACCGGAUUAGAUACCCGGGUAGUCCCAGCCGUAAACGAUGCUCGCUAGGUGUCUGGAAUGGUGCGACCGUUUCAGGUGCCGCAGGGAAGCCGUGAAGCGAGCCACCUGGGAAGUACGGCCGCAAGGCUGAAACUUAAAGGAAUUGGCGGGGGAGCACUACAACGGGUGGAGCCUGCGGUUUAAUUGGACUCAACGCCGGACAACUCACCGGGGGCGACAGCAAUAUGUAGGUCAAGCUAAAGACUUUACCUGAAUCGCUGAGAGGAGGUGCAUGGCCGUCGUCAGUUCGUACUGUGAAGCAUCCUGUUAAGUCAGGCAACGAGCGAGACCCGUGCCCACUGUUGCCAGCAUAUCCUUCGGGAUGAUGGGUACUCUGUGGGGACCGCCGAUGCUAAAUCGGAGGAAGGUGCGGGCUACGGUAGGUCAGUAUGCCCCGAAUCUCCCGGGCUACACGCGGGCUACAAUGGUUGGGACAAUGGGCUCCUACACUGAAAAGUGACGGUAAUCUCAUAAACCCAGCCGUAGUUCGAAUUGAGGGCUGAAACCCGCCCUCAUGAAGCUGGAAUCCGUAGUAAUCGCGUUUCAAUAUAGCGCGGUGAAUACGUCCCUGCUCCUUGCACACACCGCCCGUCAAACCACCCGAGUGAGGUAUGGGUGAGGGCGCGGACUUAGUGCUGCGUUCGAACCUAAAUUUCGCAAGGGGGGUUAAGUCGUAACAAGGUAGCCGUAGGGGAAUCUGCGGCUGGAUCACCUCCU'\n",
    "\n",
    "seq = seq.replace('I', 'A')\n",
    "ss = ss.replace('[', '.').replace(']', '.')\n",
    "\n",
    "rna_draw.draw(ss, seq)"
   ]
  },
  {
   "cell_type": "code",
   "execution_count": null,
   "metadata": {},
   "outputs": [],
   "source": [
    "# Small Hairpin\n",
    "\n",
    "seq = 'GAGGAAACCC'\n",
    "ss = '(.)((...))'\n",
    "\n",
    "rna_draw.draw(ss, seq)"
   ]
  },
  {
   "cell_type": "code",
   "execution_count": null,
   "metadata": {},
   "outputs": [],
   "source": [
    "# BP_RNA_CRW_2\n",
    "\n",
    "seq = 'AACACAUGCAAGUCGAACGAUGAUCUCCAGCUUGCUGGGGGAUUAGUGGCGAACGGGUGAGUAACACGUGAGUAACCUGCCCUUGACUCUGGGAUAAGCCUGGGAAACUGGGUCUACUACUGGCUACGACCUUCCCACGCAUGUGUGUUGGUGGAAAGCUUUUGUGGUUUUGGAUGGACUCGCGGCCUAUCAGCUUGUUGGUGGGGUAAUGGCCUACCAAGGCGACGACGGGUAGCCGGCCUGAGAGGGUGGACGGCCACACUGGGACUGAGACACGGCCCAGACUCCUACGGGAGGCAGCAGUGGGGAAUAUUGCACAAUGGGCGCAAGCUGAUGCAGCGACGCCGCGUGAGGGAUGAAGGCCUUCGGGUUGUAAACCUCUUUCAGUAGGGAAGAAGCGAAAGUGACGGUACCUGCAGAAGAAGCGCCGGCUAACUACGUGCCAGCAGCCGCGGUAAUACGUAGGGCGCAAGCGUUAUCCGGAAUUAUUGGGCGUAAAGAGCUCGUAGGCGGUUUGUCGCGUCUGCCGUGAAAGUCCGGGGCUUAACUCCGGAUCUGCGGUGGGUACGGGCAGACUUGAGUGAUGUAGGGGAGACUGGAAUUCCUGGUGUAGCGGUGAAAUGCGCAGAUAUCAGGAGGAACACCGAUGGCGAAGGCAGGUCUCUGGGCAUUAACUGACGCUGAGGAGCGAAAGCAUGGGGAGCGAACAGGAUUAGAUACCCUGGUAGUCCAUGCCGUAAACGUUGGGCACUAGGUGUGGGGGACAUUCCACGUUUUCCGCGCCGUAGCUAACGCAUUAAGUGCCCCGCCUGGGGAGUACGGCCGCAAGGCUAAAACUCAAAGGAAUUGACGGGGGCCCGCACAAGCGGCGGAGCAUGCGGAUUAAUUCGAUGCAACGCGAAGAACCUUACCAAGGCUUGACAUGAACCGGAACGGCGCAGAGAUGUGUCGGCCACUUGUGGCGUUUACAGGUGGUGCAUGGUUGUCGUCAGCUCGUGUCGUGAGAUGUUGGGUUAAGUCCCGCAACGAGCGCAACCCUCGUUCCAUGUUGCCAGCGGGUUAUGCCGGGGACUCAUGGGAGACUGCCGGGGUCAACUCGGAGGAAGGUGGGGACGACGUCAAAUCAUCAUGCCCCUUAUGUCUUGGGCUUCACGCAUGCUACAAUGGCCGGUACAAAGGGUUGCGAUGCUGUGAGGUGGAGCUAAUCCCAAAAAGCCGGUCUCAGUUCGGAUUGAGGUCUGCAACUCGACCUCAUGAAGUCGGAGUCGCUAGUAAUCGCAGAUCAGCAACGCUGCGGUGAAUACGUUCCCGGGCCUUGUACACACCGCCCGUCAAGUCACGAAAGUUGGUAACACCCGAAGCCGGUGGCCUAACCCUUUUGGGGGGGAGCCGUCGAAGGUGGGACCGCGCGAUUGGGACUAAGUCGUAACAAGGUA'\n",
    "ss = '..(((.(((..(((..(((((.(((((.((....))))))))).))))))......(((......((((((((..((...(((((((.((((....(((((((....))))))).....)))).....((((((((((....)))))))))).....((....)).)))))))..))))))))))(((..(.(((..((((((((.......))))))))))).....))))..((((((((....))))...))))))).((((((..........)))))).((((....))))...)))))).......(.(((...(((.(....)))).))))............((((......((((....)))).....)))).[.(((((((...(..((....))..)....))))))..])..((((([[[...(((((.....((.]]])).......)))))))))).....................((([[...(.((((.(.(((.(((((((.(((((((((((....(((((((.....)))))))..)))))))))..)))))))))...(((((((((..(((((((((..((((((((...(((......)))......))))))))..))....(..((....)))))))))).)))))).)))...))))..))))....((((((...((...((((.........))))...))))))))..........((((((..((((((((((((.......))))))))))))...((..]])).....)))))))))).(((......((((....))))....)))........(((((.(((((((.((..(((((((((((((((((....((((........))))........(((((((.....((((((..(..(((((((....)))))))..((....)).))))))).((.((((..(((((((((...(((((((((....)))..((((......))))..)))))).....((((.(((((((...((..(((......)))))....)))))))..((((((((.....)))))))).....))))....)))).)))...))))))))....)))))))...)).))))))))))...(((((((...(((((..((...(((....)))...))....)))))...)))))))......(...((((((((........))))))))...).....))))).....((((((((........))))))))......))...)))))))))).))..(.((.((.(.((((((((..((((((((((((....((((((.((((..((.......))))))))))))...))))))))).)))..))))))))..).))..))..)...'\n",
    "\n",
    "seq = seq.replace('I', 'A')\n",
    "ss = ss.replace('[', '.').replace(']', '.')\n",
    "\n",
    "rna_draw.draw(ss, seq)"
   ]
  },
  {
   "cell_type": "markdown",
   "metadata": {},
   "source": []
  }
 ],
 "metadata": {
  "kernelspec": {
   "display_name": "py3",
   "language": "python",
   "name": "python3"
  },
  "language_info": {
   "codemirror_mode": {
    "name": "ipython",
    "version": 3
   },
   "file_extension": ".py",
   "mimetype": "text/x-python",
   "name": "python",
   "nbconvert_exporter": "python",
   "pygments_lexer": "ipython3",
   "version": "3.9.18"
  },
  "orig_nbformat": 4
 },
 "nbformat": 4,
 "nbformat_minor": 2
}
